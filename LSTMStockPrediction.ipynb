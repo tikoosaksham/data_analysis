{
  "nbformat": 4,
  "nbformat_minor": 0,
  "metadata": {
    "colab": {
      "name": "LSTMStockPrediction.ipynb",
      "provenance": [],
      "collapsed_sections": [],
      "authorship_tag": "ABX9TyMLGD82woIduMeFIWeosoxL",
      "include_colab_link": true
    },
    "kernelspec": {
      "name": "python3",
      "display_name": "Python 3"
    }
  },
  "cells": [
    {
      "cell_type": "markdown",
      "metadata": {
        "id": "view-in-github",
        "colab_type": "text"
      },
      "source": [
        "<a href=\"https://colab.research.google.com/github/tikoosaksham/data_analysis/blob/master/LSTMStockPrediction.ipynb\" target=\"_parent\"><img src=\"https://colab.research.google.com/assets/colab-badge.svg\" alt=\"Open In Colab\"/></a>"
      ]
    },
    {
      "cell_type": "code",
      "metadata": {
        "id": "lxHmqJaleN3R"
      },
      "source": [
        "import pandas_datareader as pdr\r\n",
        "import numpy as np\r\n",
        "from numpy import array\r\n",
        "import matplotlib.pyplot as plt\r\n",
        "from sklearn.preprocessing import MinMaxScaler\r\n",
        "\r\n",
        "import tensorflow as tf\r\n",
        "from tensorflow.keras.models import Sequential\r\n",
        "from tensorflow.keras.layers import Dense\r\n",
        "from tensorflow.keras.layers import LSTM\r\n",
        "\r\n",
        "import math\r\n",
        "from sklearn.metrics import mean_squared_error"
      ],
      "execution_count": 36,
      "outputs": []
    },
    {
      "cell_type": "code",
      "metadata": {
        "id": "qdocSE2Yedqb"
      },
      "source": [
        "df = pdr.get_data_tiingo('AAPL', api_key=\"removed\")"
      ],
      "execution_count": 4,
      "outputs": []
    },
    {
      "cell_type": "code",
      "metadata": {
        "id": "3KONsXUHgj5Y"
      },
      "source": [
        "df.to_csv(\"AAPL.csv\")"
      ],
      "execution_count": 5,
      "outputs": []
    },
    {
      "cell_type": "code",
      "metadata": {
        "id": "ceFd3-FtgqRK"
      },
      "source": [
        "df1 = df.reset_index()[\"close\"]"
      ],
      "execution_count": 6,
      "outputs": []
    },
    {
      "cell_type": "code",
      "metadata": {
        "colab": {
          "base_uri": "https://localhost:8080/"
        },
        "id": "C3Ts7azxhBRG",
        "outputId": "3ee3778d-49e9-4c4d-ff96-ac2aa3ad93ae"
      },
      "source": [
        "df1.shape"
      ],
      "execution_count": 7,
      "outputs": [
        {
          "output_type": "execute_result",
          "data": {
            "text/plain": [
              "(1258,)"
            ]
          },
          "metadata": {
            "tags": []
          },
          "execution_count": 7
        }
      ]
    },
    {
      "cell_type": "code",
      "metadata": {
        "colab": {
          "base_uri": "https://localhost:8080/",
          "height": 283
        },
        "id": "RfentvEHhDgq",
        "outputId": "80f9eab4-0bf6-45d1-ca9a-381d593a583e"
      },
      "source": [
        "plt.plot(df1)"
      ],
      "execution_count": 8,
      "outputs": [
        {
          "output_type": "execute_result",
          "data": {
            "text/plain": [
              "[<matplotlib.lines.Line2D at 0x7fb167778a90>]"
            ]
          },
          "metadata": {
            "tags": []
          },
          "execution_count": 8
        },
        {
          "output_type": "display_data",
          "data": {
            "image/png": "[encoded data removed]",
            "text/plain": [
              "<Figure size 432x288 with 1 Axes>"
            ]
          },
          "metadata": {
            "tags": [],
            "needs_background": "light"
          }
        }
      ]
    },
    {
      "cell_type": "code",
      "metadata": {
        "id": "M4_EPzIchOGq"
      },
      "source": [
        "scaler = MinMaxScaler(feature_range = (0, 1))\r\n",
        "df1 = scaler.fit_transform(np.array(df1).reshape(-1, 1))"
      ],
      "execution_count": 9,
      "outputs": []
    },
    {
      "cell_type": "code",
      "metadata": {
        "id": "x0urEb9Gijoa"
      },
      "source": [
        "training_size = int(len(df1) * 0.65)\r\n",
        "test_size = len(df1) - training_size\r\n",
        "train_data,test_data = df1[0 : training_size, :], df1[training_size : len(df1), :1]"
      ],
      "execution_count": 10,
      "outputs": []
    },
    {
      "cell_type": "code",
      "metadata": {
        "colab": {
          "base_uri": "https://localhost:8080/"
        },
        "id": "aZUZusPMj58d",
        "outputId": "42b25f03-548e-49ec-c737-6ec07549f29d"
      },
      "source": [
        "training_size, test_size"
      ],
      "execution_count": 11,
      "outputs": [
        {
          "output_type": "execute_result",
          "data": {
            "text/plain": [
              "(817, 441)"
            ]
          },
          "metadata": {
            "tags": []
          },
          "execution_count": 11
        }
      ]
    },
    {
      "cell_type": "code",
      "metadata": {
        "id": "e420ddzij9tb"
      },
      "source": [
        "def create_dataset(dataset, time_step = 1):\r\n",
        "\tdataX, dataY = [], []\r\n",
        "\r\n",
        "\tfor i in range(len(dataset) - time_step - 1):\r\n",
        "\t\ta = dataset[i: (i + time_step), 0]\r\n",
        "\t\tdataX.append(a)\r\n",
        "\t\tdataY.append(dataset[i + time_step, 0])\r\n",
        "  \r\n",
        "\treturn np.array(dataX), np.array(dataY)\r\n",
        " \r\n",
        "time_step = 100\r\n",
        "X_train, y_train = create_dataset(train_data, time_step)\r\n",
        "X_test, ytest = create_dataset(test_data, time_step)"
      ],
      "execution_count": 13,
      "outputs": []
    },
    {
      "cell_type": "code",
      "metadata": {
        "id": "xarw65ComVJb"
      },
      "source": [
        "X_train = X_train.reshape(X_train.shape[0], X_train.shape[1], 1)\r\n",
        "X_test = X_test.reshape(X_test.shape[0], X_test.shape[1], 1)"
      ],
      "execution_count": 16,
      "outputs": []
    },
    {
      "cell_type": "code",
      "metadata": {
        "id": "XpBG_iAvm1Mt"
      },
      "source": [
        "model = Sequential()\r\n",
        "model.add(LSTM(50,return_sequences = True, input_shape=(100, 1)))\r\n",
        "model.add(LSTM(50,return_sequences = True))\r\n",
        "model.add(LSTM(50))\r\n",
        "model.add(Dense(1))\r\n",
        "model.compile(loss='mean_squared_error',optimizer='adam')"
      ],
      "execution_count": 18,
      "outputs": []
    },
    {
      "cell_type": "code",
      "metadata": {
        "colab": {
          "base_uri": "https://localhost:8080/"
        },
        "id": "R5JhYhjJm81x",
        "outputId": "a5db6a96-94b0-400f-c887-a77e74559b97"
      },
      "source": [
        "model.summary()"
      ],
      "execution_count": 19,
      "outputs": [
        {
          "output_type": "stream",
          "text": [
            "Model: \"sequential\"\n",
            "_________________________________________________________________\n",
            "Layer (type)                 Output Shape              Param #   \n",
            "=================================================================\n",
            "lstm (LSTM)                  (None, 100, 50)           10400     \n",
            "_________________________________________________________________\n",
            "lstm_1 (LSTM)                (None, 100, 50)           20200     \n",
            "_________________________________________________________________\n",
            "lstm_2 (LSTM)                (None, 50)                20200     \n",
            "_________________________________________________________________\n",
            "dense (Dense)                (None, 1)                 51        \n",
            "=================================================================\n",
            "Total params: 50,851\n",
            "Trainable params: 50,851\n",
            "Non-trainable params: 0\n",
            "_________________________________________________________________\n"
          ],
          "name": "stdout"
        }
      ]
    },
    {
      "cell_type": "code",
      "metadata": {
        "colab": {
          "base_uri": "https://localhost:8080/"
        },
        "id": "RxxQGgHWm_ok",
        "outputId": "28dd000a-9a24-4a2c-c89d-18707e2ae514"
      },
      "source": [
        "model.fit(X_train, y_train, validation_data = (X_test, ytest), epochs=100, batch_size=64, verbose=1)"
      ],
      "execution_count": 20,
      "outputs": [
        {
          "output_type": "stream",
          "text": [
            "Epoch 1/100\n",
            "12/12 [==============================] - 8s 269ms/step - loss: 0.0168 - val_loss: 0.0511\n",
            "Epoch 2/100\n",
            "12/12 [==============================] - 2s 165ms/step - loss: 0.0029 - val_loss: 0.0238\n",
            "Epoch 3/100\n",
            "12/12 [==============================] - 2s 165ms/step - loss: 0.0014 - val_loss: 0.0217\n",
            "Epoch 4/100\n",
            "12/12 [==============================] - 2s 179ms/step - loss: 4.8028e-04 - val_loss: 0.0198\n",
            "Epoch 5/100\n",
            "12/12 [==============================] - 2s 168ms/step - loss: 3.6038e-04 - val_loss: 0.0187\n",
            "Epoch 6/100\n",
            "12/12 [==============================] - 2s 171ms/step - loss: 3.1458e-04 - val_loss: 0.0184\n",
            "Epoch 7/100\n",
            "12/12 [==============================] - 2s 170ms/step - loss: 3.6324e-04 - val_loss: 0.0177\n",
            "Epoch 8/100\n",
            "12/12 [==============================] - 2s 170ms/step - loss: 2.7638e-04 - val_loss: 0.0173\n",
            "Epoch 9/100\n",
            "12/12 [==============================] - 2s 170ms/step - loss: 3.1940e-04 - val_loss: 0.0168\n",
            "Epoch 10/100\n",
            "12/12 [==============================] - 2s 176ms/step - loss: 2.8446e-04 - val_loss: 0.0163\n",
            "Epoch 11/100\n",
            "12/12 [==============================] - 2s 177ms/step - loss: 2.7693e-04 - val_loss: 0.0158\n",
            "Epoch 12/100\n",
            "12/12 [==============================] - 2s 176ms/step - loss: 2.5286e-04 - val_loss: 0.0154\n",
            "Epoch 13/100\n",
            "12/12 [==============================] - 2s 175ms/step - loss: 2.5415e-04 - val_loss: 0.0149\n",
            "Epoch 14/100\n",
            "12/12 [==============================] - 2s 178ms/step - loss: 2.0385e-04 - val_loss: 0.0144\n",
            "Epoch 15/100\n",
            "12/12 [==============================] - 2s 174ms/step - loss: 2.0951e-04 - val_loss: 0.0142\n",
            "Epoch 16/100\n",
            "12/12 [==============================] - 2s 170ms/step - loss: 2.0982e-04 - val_loss: 0.0139\n",
            "Epoch 17/100\n",
            "12/12 [==============================] - 2s 170ms/step - loss: 1.9646e-04 - val_loss: 0.0145\n",
            "Epoch 18/100\n",
            "12/12 [==============================] - 2s 170ms/step - loss: 2.1548e-04 - val_loss: 0.0145\n",
            "Epoch 19/100\n",
            "12/12 [==============================] - 2s 170ms/step - loss: 2.1163e-04 - val_loss: 0.0149\n",
            "Epoch 20/100\n",
            "12/12 [==============================] - 2s 171ms/step - loss: 1.9784e-04 - val_loss: 0.0147\n",
            "Epoch 21/100\n",
            "12/12 [==============================] - 2s 170ms/step - loss: 2.0679e-04 - val_loss: 0.0145\n",
            "Epoch 22/100\n",
            "12/12 [==============================] - 2s 170ms/step - loss: 1.8022e-04 - val_loss: 0.0161\n",
            "Epoch 23/100\n",
            "12/12 [==============================] - 2s 172ms/step - loss: 2.5476e-04 - val_loss: 0.0136\n",
            "Epoch 24/100\n",
            "12/12 [==============================] - 2s 172ms/step - loss: 2.0690e-04 - val_loss: 0.0149\n",
            "Epoch 25/100\n",
            "12/12 [==============================] - 2s 171ms/step - loss: 2.2289e-04 - val_loss: 0.0140\n",
            "Epoch 26/100\n",
            "12/12 [==============================] - 2s 170ms/step - loss: 1.7046e-04 - val_loss: 0.0143\n",
            "Epoch 27/100\n",
            "12/12 [==============================] - 2s 173ms/step - loss: 1.6135e-04 - val_loss: 0.0154\n",
            "Epoch 28/100\n",
            "12/12 [==============================] - 2s 170ms/step - loss: 1.6116e-04 - val_loss: 0.0148\n",
            "Epoch 29/100\n",
            "12/12 [==============================] - 2s 169ms/step - loss: 1.6426e-04 - val_loss: 0.0151\n",
            "Epoch 30/100\n",
            "12/12 [==============================] - 2s 171ms/step - loss: 1.8590e-04 - val_loss: 0.0134\n",
            "Epoch 31/100\n",
            "12/12 [==============================] - 2s 169ms/step - loss: 1.5890e-04 - val_loss: 0.0148\n",
            "Epoch 32/100\n",
            "12/12 [==============================] - 2s 174ms/step - loss: 1.7492e-04 - val_loss: 0.0137\n",
            "Epoch 33/100\n",
            "12/12 [==============================] - 2s 172ms/step - loss: 1.6122e-04 - val_loss: 0.0137\n",
            "Epoch 34/100\n",
            "12/12 [==============================] - 2s 171ms/step - loss: 1.5446e-04 - val_loss: 0.0135\n",
            "Epoch 35/100\n",
            "12/12 [==============================] - 2s 174ms/step - loss: 1.5987e-04 - val_loss: 0.0144\n",
            "Epoch 36/100\n",
            "12/12 [==============================] - 2s 169ms/step - loss: 1.4702e-04 - val_loss: 0.0140\n",
            "Epoch 37/100\n",
            "12/12 [==============================] - 2s 171ms/step - loss: 1.5860e-04 - val_loss: 0.0131\n",
            "Epoch 38/100\n",
            "12/12 [==============================] - 2s 170ms/step - loss: 1.5878e-04 - val_loss: 0.0129\n",
            "Epoch 39/100\n",
            "12/12 [==============================] - 2s 170ms/step - loss: 1.3337e-04 - val_loss: 0.0123\n",
            "Epoch 40/100\n",
            "12/12 [==============================] - 2s 171ms/step - loss: 1.5390e-04 - val_loss: 0.0131\n",
            "Epoch 41/100\n",
            "12/12 [==============================] - 2s 173ms/step - loss: 1.4196e-04 - val_loss: 0.0125\n",
            "Epoch 42/100\n",
            "12/12 [==============================] - 2s 171ms/step - loss: 1.3825e-04 - val_loss: 0.0136\n",
            "Epoch 43/100\n",
            "12/12 [==============================] - 2s 169ms/step - loss: 1.3662e-04 - val_loss: 0.0133\n",
            "Epoch 44/100\n",
            "12/12 [==============================] - 2s 172ms/step - loss: 1.8200e-04 - val_loss: 0.0111\n",
            "Epoch 45/100\n",
            "12/12 [==============================] - 2s 171ms/step - loss: 2.1832e-04 - val_loss: 0.0147\n",
            "Epoch 46/100\n",
            "12/12 [==============================] - 2s 171ms/step - loss: 2.1106e-04 - val_loss: 0.0111\n",
            "Epoch 47/100\n",
            "12/12 [==============================] - 2s 171ms/step - loss: 1.2894e-04 - val_loss: 0.0124\n",
            "Epoch 48/100\n",
            "12/12 [==============================] - 2s 173ms/step - loss: 1.2839e-04 - val_loss: 0.0111\n",
            "Epoch 49/100\n",
            "12/12 [==============================] - 2s 171ms/step - loss: 1.2308e-04 - val_loss: 0.0116\n",
            "Epoch 50/100\n",
            "12/12 [==============================] - 2s 170ms/step - loss: 1.2686e-04 - val_loss: 0.0111\n",
            "Epoch 51/100\n",
            "12/12 [==============================] - 2s 173ms/step - loss: 1.4429e-04 - val_loss: 0.0137\n",
            "Epoch 52/100\n",
            "12/12 [==============================] - 2s 171ms/step - loss: 1.7378e-04 - val_loss: 0.0110\n",
            "Epoch 53/100\n",
            "12/12 [==============================] - 2s 170ms/step - loss: 1.4009e-04 - val_loss: 0.0111\n",
            "Epoch 54/100\n",
            "12/12 [==============================] - 2s 175ms/step - loss: 1.1143e-04 - val_loss: 0.0125\n",
            "Epoch 55/100\n",
            "12/12 [==============================] - 2s 172ms/step - loss: 1.1180e-04 - val_loss: 0.0109\n",
            "Epoch 56/100\n",
            "12/12 [==============================] - 2s 171ms/step - loss: 1.1589e-04 - val_loss: 0.0116\n",
            "Epoch 57/100\n",
            "12/12 [==============================] - 2s 174ms/step - loss: 1.2027e-04 - val_loss: 0.0103\n",
            "Epoch 58/100\n",
            "12/12 [==============================] - 2s 201ms/step - loss: 1.2901e-04 - val_loss: 0.0091\n",
            "Epoch 59/100\n",
            "12/12 [==============================] - 2s 181ms/step - loss: 1.4029e-04 - val_loss: 0.0114\n",
            "Epoch 60/100\n",
            "12/12 [==============================] - 2s 176ms/step - loss: 1.2093e-04 - val_loss: 0.0098\n",
            "Epoch 61/100\n",
            "12/12 [==============================] - 2s 178ms/step - loss: 1.0902e-04 - val_loss: 0.0100\n",
            "Epoch 62/100\n",
            "12/12 [==============================] - 2s 177ms/step - loss: 1.0594e-04 - val_loss: 0.0112\n",
            "Epoch 63/100\n",
            "12/12 [==============================] - 2s 184ms/step - loss: 1.0131e-04 - val_loss: 0.0095\n",
            "Epoch 64/100\n",
            "12/12 [==============================] - 2s 184ms/step - loss: 1.1808e-04 - val_loss: 0.0093\n",
            "Epoch 65/100\n",
            "12/12 [==============================] - 2s 183ms/step - loss: 9.8484e-05 - val_loss: 0.0091\n",
            "Epoch 66/100\n",
            "12/12 [==============================] - 2s 173ms/step - loss: 1.0349e-04 - val_loss: 0.0091\n",
            "Epoch 67/100\n",
            "12/12 [==============================] - 2s 176ms/step - loss: 1.0033e-04 - val_loss: 0.0089\n",
            "Epoch 68/100\n",
            "12/12 [==============================] - 2s 174ms/step - loss: 1.0178e-04 - val_loss: 0.0091\n",
            "Epoch 69/100\n",
            "12/12 [==============================] - 2s 178ms/step - loss: 9.2817e-05 - val_loss: 0.0107\n",
            "Epoch 70/100\n",
            "12/12 [==============================] - 2s 174ms/step - loss: 1.1115e-04 - val_loss: 0.0082\n",
            "Epoch 71/100\n",
            "12/12 [==============================] - 2s 175ms/step - loss: 1.0170e-04 - val_loss: 0.0073\n",
            "Epoch 72/100\n",
            "12/12 [==============================] - 2s 175ms/step - loss: 8.4686e-05 - val_loss: 0.0079\n",
            "Epoch 73/100\n",
            "12/12 [==============================] - 2s 173ms/step - loss: 7.8849e-05 - val_loss: 0.0075\n",
            "Epoch 74/100\n",
            "12/12 [==============================] - 2s 189ms/step - loss: 9.2929e-05 - val_loss: 0.0078\n",
            "Epoch 75/100\n",
            "12/12 [==============================] - 2s 178ms/step - loss: 8.2038e-05 - val_loss: 0.0065\n",
            "Epoch 76/100\n",
            "12/12 [==============================] - 2s 178ms/step - loss: 9.2739e-05 - val_loss: 0.0073\n",
            "Epoch 77/100\n",
            "12/12 [==============================] - 2s 177ms/step - loss: 9.9042e-05 - val_loss: 0.0081\n",
            "Epoch 78/100\n",
            "12/12 [==============================] - 2s 176ms/step - loss: 8.4813e-05 - val_loss: 0.0073\n",
            "Epoch 79/100\n",
            "12/12 [==============================] - 2s 175ms/step - loss: 7.5033e-05 - val_loss: 0.0079\n",
            "Epoch 80/100\n",
            "12/12 [==============================] - 2s 174ms/step - loss: 9.2572e-05 - val_loss: 0.0065\n",
            "Epoch 81/100\n",
            "12/12 [==============================] - 2s 174ms/step - loss: 8.4763e-05 - val_loss: 0.0064\n",
            "Epoch 82/100\n",
            "12/12 [==============================] - 2s 172ms/step - loss: 8.6396e-05 - val_loss: 0.0060\n",
            "Epoch 83/100\n",
            "12/12 [==============================] - 2s 174ms/step - loss: 8.3735e-05 - val_loss: 0.0076\n",
            "Epoch 84/100\n",
            "12/12 [==============================] - 2s 179ms/step - loss: 8.3824e-05 - val_loss: 0.0054\n",
            "Epoch 85/100\n",
            "12/12 [==============================] - 2s 177ms/step - loss: 1.0827e-04 - val_loss: 0.0061\n",
            "Epoch 86/100\n",
            "12/12 [==============================] - 2s 173ms/step - loss: 7.7947e-05 - val_loss: 0.0057\n",
            "Epoch 87/100\n",
            "12/12 [==============================] - 2s 175ms/step - loss: 7.5196e-05 - val_loss: 0.0063\n",
            "Epoch 88/100\n",
            "12/12 [==============================] - 2s 174ms/step - loss: 8.1286e-05 - val_loss: 0.0051\n",
            "Epoch 89/100\n",
            "12/12 [==============================] - 2s 174ms/step - loss: 7.4478e-05 - val_loss: 0.0053\n",
            "Epoch 90/100\n",
            "12/12 [==============================] - 2s 177ms/step - loss: 7.1246e-05 - val_loss: 0.0058\n",
            "Epoch 91/100\n",
            "12/12 [==============================] - 2s 177ms/step - loss: 6.6681e-05 - val_loss: 0.0058\n",
            "Epoch 92/100\n",
            "12/12 [==============================] - 2s 176ms/step - loss: 1.0689e-04 - val_loss: 0.0047\n",
            "Epoch 93/100\n",
            "12/12 [==============================] - 2s 175ms/step - loss: 9.2468e-05 - val_loss: 0.0052\n",
            "Epoch 94/100\n",
            "12/12 [==============================] - 2s 175ms/step - loss: 9.0724e-05 - val_loss: 0.0060\n",
            "Epoch 95/100\n",
            "12/12 [==============================] - 2s 178ms/step - loss: 8.6894e-05 - val_loss: 0.0045\n",
            "Epoch 96/100\n",
            "12/12 [==============================] - 2s 175ms/step - loss: 9.4569e-05 - val_loss: 0.0049\n",
            "Epoch 97/100\n",
            "12/12 [==============================] - 2s 179ms/step - loss: 7.0331e-05 - val_loss: 0.0046\n",
            "Epoch 98/100\n",
            "12/12 [==============================] - 2s 178ms/step - loss: 9.1347e-05 - val_loss: 0.0047\n",
            "Epoch 99/100\n",
            "12/12 [==============================] - 2s 176ms/step - loss: 7.0581e-05 - val_loss: 0.0049\n",
            "Epoch 100/100\n",
            "12/12 [==============================] - 2s 177ms/step - loss: 6.1775e-05 - val_loss: 0.0058\n"
          ],
          "name": "stdout"
        },
        {
          "output_type": "execute_result",
          "data": {
            "text/plain": [
              "<tensorflow.python.keras.callbacks.History at 0x7fb12ac582b0>"
            ]
          },
          "metadata": {
            "tags": []
          },
          "execution_count": 20
        }
      ]
    },
    {
      "cell_type": "code",
      "metadata": {
        "id": "h9z1LjHxoJKx"
      },
      "source": [
        "train_predict = model.predict(X_train)\r\n",
        "test_predict = model.predict(X_test)\r\n",
        "\r\n",
        "train_predict = scaler.inverse_transform(train_predict)\r\n",
        "test_predict = scaler.inverse_transform(test_predict)"
      ],
      "execution_count": 24,
      "outputs": []
    },
    {
      "cell_type": "code",
      "metadata": {
        "colab": {
          "base_uri": "https://localhost:8080/"
        },
        "id": "nSoMJ0P0o19C",
        "outputId": "9eed72e2-51fd-4da5-e3a7-3e1119c4dd27"
      },
      "source": [
        "math.sqrt(mean_squared_error(y_train, train_predict))"
      ],
      "execution_count": 29,
      "outputs": [
        {
          "output_type": "execute_result",
          "data": {
            "text/plain": [
              "161.3503722468358"
            ]
          },
          "metadata": {
            "tags": []
          },
          "execution_count": 29
        }
      ]
    },
    {
      "cell_type": "code",
      "metadata": {
        "colab": {
          "base_uri": "https://localhost:8080/"
        },
        "id": "EuoJ6My_o6Hx",
        "outputId": "ebd2eaeb-0d6b-4a13-bdaf-c5b002afe80c"
      },
      "source": [
        "math.sqrt(mean_squared_error(ytest, test_predict))"
      ],
      "execution_count": 31,
      "outputs": [
        {
          "output_type": "execute_result",
          "data": {
            "text/plain": [
              "254.22824210900285"
            ]
          },
          "metadata": {
            "tags": []
          },
          "execution_count": 31
        }
      ]
    },
    {
      "cell_type": "code",
      "metadata": {
        "colab": {
          "base_uri": "https://localhost:8080/",
          "height": 265
        },
        "id": "WSKrW7XCpEQV",
        "outputId": "5175c413-d01f-4513-f523-15b765a73e52"
      },
      "source": [
        "\r\n",
        "### Plotting \r\n",
        "# shift train predictions for plotting\r\n",
        "look_back = 100\r\n",
        "trainPredictPlot = np.empty_like(df1)\r\n",
        "trainPredictPlot[:, :] = np.nan\r\n",
        "trainPredictPlot[look_back : len(train_predict) + look_back, :] = train_predict\r\n",
        "\r\n",
        "# shift test predictions for plotting\r\n",
        "testPredictPlot = np.empty_like(df1)\r\n",
        "testPredictPlot[:, :] = np.nan\r\n",
        "testPredictPlot[len(train_predict) + (look_back*2) + 1 : len(df1) - 1, :] = test_predict\r\n",
        "\r\n",
        "# plot baseline and predictions\r\n",
        "plt.plot(scaler.inverse_transform(df1))\r\n",
        "plt.plot(trainPredictPlot)\r\n",
        "plt.plot(testPredictPlot)\r\n",
        "plt.show()"
      ],
      "execution_count": 33,
      "outputs": [
        {
          "output_type": "display_data",
          "data": {
            "image/png": "[encoded data removed]",
            "text/plain": [
              "<Figure size 432x288 with 1 Axes>"
            ]
          },
          "metadata": {
            "tags": [],
            "needs_background": "light"
          }
        }
      ]
    },
    {
      "cell_type": "code",
      "metadata": {
        "colab": {
          "base_uri": "https://localhost:8080/"
        },
        "id": "DINZ_NIVpUKQ",
        "outputId": "5c86cb13-6d2d-40bc-d43f-92075c371299"
      },
      "source": [
        "x_input = test_data[341 : ].reshape(1, -1)\r\n",
        "x_input.shape"
      ],
      "execution_count": 34,
      "outputs": [
        {
          "output_type": "execute_result",
          "data": {
            "text/plain": [
              "(1, 100)"
            ]
          },
          "metadata": {
            "tags": []
          },
          "execution_count": 34
        }
      ]
    },
    {
      "cell_type": "code",
      "metadata": {
        "id": "k34sZXd0piSA"
      },
      "source": [
        "temp_input = list(x_input)\r\n",
        "temp_input = temp_input[0].tolist()"
      ],
      "execution_count": 35,
      "outputs": []
    },
    {
      "cell_type": "code",
      "metadata": {
        "id": "-ByS61gbp3yp"
      },
      "source": [
        "# prediction for next 30 days\r\n",
        "\r\n",
        "lst_output = []\r\n",
        "n_steps = 100\r\n",
        "for i in range (30):\r\n",
        "    if(len(temp_input) > 100):\r\n",
        "        x_input = np.array(temp_input[1:])\r\n",
        "        print(\"{} Day input {}\".format(i, x_input))\r\n",
        "        x_input=x_input.reshape(1, -1)\r\n",
        "        x_input = x_input.reshape((1, n_steps, 1))\r\n",
        "        \r\n",
        "        yhat = model.predict(x_input, verbose = 0)\r\n",
        "        print(\"{} Day output {}\".format(i, yhat))\r\n",
        "        temp_input.extend(yhat[0].tolist())\r\n",
        "        temp_input = temp_input[1:]\r\n",
        "        \r\n",
        "        lst_output.extend(yhat.tolist())\r\n",
        "    else:\r\n",
        "        x_input = x_input.reshape((1, n_steps,1))\r\n",
        "        yhat = model.predict(x_input, verbose=0)\r\n",
        "        print(yhat[0])\r\n",
        "        temp_input.extend(yhat[0].tolist())\r\n",
        "        print(len(temp_input))\r\n",
        "        lst_output.extend(yhat.tolist())"
      ],
      "execution_count": null,
      "outputs": []
    },
    {
      "cell_type": "code",
      "metadata": {
        "id": "_zcfc3TprFZX"
      },
      "source": [
        "day_new = np.arange(1, 101)\r\n",
        "day_pred = np.arange(101, 131)"
      ],
      "execution_count": 38,
      "outputs": []
    },
    {
      "cell_type": "code",
      "metadata": {
        "colab": {
          "base_uri": "https://localhost:8080/",
          "height": 283
        },
        "id": "o-CNN_oNrY1E",
        "outputId": "440fe2ed-11f9-47ca-febc-0b644e9c1cfc"
      },
      "source": [
        "plt.plot(day_new,scaler.inverse_transform(df1[-100 : ]))\r\n",
        "plt.plot(day_pred,scaler.inverse_transform(lst_output))"
      ],
      "execution_count": 43,
      "outputs": [
        {
          "output_type": "execute_result",
          "data": {
            "text/plain": [
              "[<matplotlib.lines.Line2D at 0x7fb126067e48>]"
            ]
          },
          "metadata": {
            "tags": []
          },
          "execution_count": 43
        },
        {
          "output_type": "display_data",
          "data": {
            "image/png": "[encoded data removed]",
            "text/plain": [
              "<Figure size 432x288 with 1 Axes>"
            ]
          },
          "metadata": {
            "tags": [],
            "needs_background": "light"
          }
        }
      ]
    }
  ]
}